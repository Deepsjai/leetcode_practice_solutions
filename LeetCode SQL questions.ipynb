{
 "cells": [
  {
   "cell_type": "markdown",
   "metadata": {},
   "source": [
    "# Leetcode SQL question Solutions"
   ]
  },
  {
   "cell_type": "markdown",
   "metadata": {},
   "source": [
    "# 176. Second Highest Salary\n",
    "\n"
   ]
  },
  {
   "cell_type": "code",
   "execution_count": null,
   "metadata": {},
   "outputs": [],
   "source": [
    "select max(Salary) as SecondHighestSalary\n",
    "from Employee\n",
    "where salary < (select max(Salary) \n",
    "                from Employee );\n"
   ]
  },
  {
   "cell_type": "markdown",
   "metadata": {},
   "source": [
    "# 584. Find Customer Referee\n"
   ]
  },
  {
   "cell_type": "code",
   "execution_count": null,
   "metadata": {},
   "outputs": [],
   "source": [
    "select name from customer\n",
    " where referee_id  !='2' or referee_id is NULL\n"
   ]
  },
  {
   "cell_type": "markdown",
   "metadata": {},
   "source": [
    "# 175. Combine Two Tables\n"
   ]
  },
  {
   "cell_type": "code",
   "execution_count": null,
   "metadata": {},
   "outputs": [],
   "source": [
    "select   Person.FirstName, Person.LastName , city, State from Person\n",
    "left join \n",
    " Address ON Address.PersonId = Person.PersonId ;"
   ]
  },
  {
   "cell_type": "markdown",
   "metadata": {},
   "source": [
    "# 577. Employee Bonus\n"
   ]
  },
  {
   "cell_type": "code",
   "execution_count": null,
   "metadata": {},
   "outputs": [],
   "source": [
    "select name, bonus from Employee\n",
    "left join\n",
    "Bonus on Employee.empId = Bonus.empId\n",
    "where bonus < 1000 or bonus is Null ;"
   ]
  },
  {
   "cell_type": "markdown",
   "metadata": {},
   "source": [
    "# 1407. Top Travellers\n"
   ]
  },
  {
   "cell_type": "code",
   "execution_count": null,
   "metadata": {},
   "outputs": [],
   "source": [
    "select name, COALESCE(SUM(distance),0) as travelled_distance \n",
    "from Users \n",
    "left join  Rides \n",
    "on Users.id = Rides.user_id \n",
    "group by name\n",
    "\n",
    "ORDER BY travelled_distance  desc, name;"
   ]
  },
  {
   "cell_type": "markdown",
   "metadata": {},
   "source": [
    "# 512. Game Play Analysis II\n"
   ]
  },
  {
   "cell_type": "code",
   "execution_count": null,
   "metadata": {},
   "outputs": [],
   "source": [
    "select player_id,device_id from activity\n",
    "where (player_id,event_date) in (select player_id,min(event_date) from activity group by player_id)\n"
   ]
  },
  {
   "cell_type": "markdown",
   "metadata": {},
   "source": [
    "# 511. Game Play Analysis I\n"
   ]
  },
  {
   "cell_type": "code",
   "execution_count": null,
   "metadata": {},
   "outputs": [],
   "source": [
    "select player_id,min(event_date) as first_login from activity group by player_id"
   ]
  },
  {
   "cell_type": "markdown",
   "metadata": {},
   "source": [
    "# 177. Nth Highest Salary\n"
   ]
  },
  {
   "cell_type": "code",
   "execution_count": null,
   "metadata": {},
   "outputs": [],
   "source": [
    "CREATE FUNCTION getNthHighestSalary(N INT) RETURNS INT\n",
    "BEGIN\n",
    "  RETURN (\n",
    "       select salary \n",
    "      from(select distinct salary, dense_rank() over(order by salary desc) as a\n",
    "      from Employee\n",
    "      ) as t\n",
    "      where a=N\n",
    "  );\n",
    "END"
   ]
  },
  {
   "cell_type": "markdown",
   "metadata": {},
   "source": [
    "# 1693. Daily Leads and Partners\n",
    "\n"
   ]
  },
  {
   "cell_type": "code",
   "execution_count": null,
   "metadata": {},
   "outputs": [],
   "source": [
    "Select date_id ,make_name, count(distinct lead_id) as unique_leads   , count(distinct partner_id ) as  unique_partners\n",
    "from DailySales\n",
    "group by 1, 2;"
   ]
  },
  {
   "cell_type": "markdown",
   "metadata": {},
   "source": [
    "# 181. Employees Earning More Than Their Managers\n",
    "\n"
   ]
  },
  {
   "cell_type": "code",
   "execution_count": null,
   "metadata": {},
   "outputs": [],
   "source": [
    "select p.name as Employee from Employee e left join Employee p\n",
    "on e.id = p.ManagerId\n",
    "where e.Salary < p.salary  ;"
   ]
  },
  {
   "cell_type": "markdown",
   "metadata": {},
   "source": [
    "# 180. Consecutive Numbers\n",
    "\n"
   ]
  },
  {
   "cell_type": "code",
   "execution_count": null,
   "metadata": {},
   "outputs": [],
   "source": [
    "select distinct Num as ConsecutiveNums\n",
    "from\n",
    "(select Num, count(*)  as count_rep\n",
    "from (select Logs.*,\n",
    "             (row_number() over (order by id) -\n",
    "              row_number() over (partition by Num order by id)\n",
    "             ) as grp\n",
    "      from Logs\n",
    "     ) Logs\n",
    "group by grp, Num) Logs\n",
    "\n",
    "where count_rep >= 3 ;\n",
    "\n",
    "OR\n",
    "\n",
    "select distinct l1.Num as ConsecutiveNums\n",
    "from \n",
    "Logs l1,\n",
    "Logs l2,\n",
    "Logs l3\n",
    "where\n",
    "l1.Id = l2.Id - 1\n",
    "    AND l2.Id = l3.Id - 1\n",
    "    AND l1.Num = l2.Num\n",
    "    AND l2.Num = l3.Num\n",
    ";"
   ]
  },
  {
   "cell_type": "markdown",
   "metadata": {},
   "source": [
    "# 1303. Find the Team Size\n",
    "\n"
   ]
  },
  {
   "cell_type": "code",
   "execution_count": null,
   "metadata": {},
   "outputs": [],
   "source": [
    "DELETE p1 FROM Person p1,\n",
    "    Person p2\n",
    "WHERE\n",
    "    p1.Email = p2.Email AND p1.Id > p2.Id"
   ]
  },
  {
   "cell_type": "markdown",
   "metadata": {},
   "source": [
    "# 1068. Product Sales Analysis I\n",
    "\n"
   ]
  },
  {
   "cell_type": "code",
   "execution_count": null,
   "metadata": {},
   "outputs": [],
   "source": [
    "select product_name , year, price from Sales join Product on \n",
    "Sales. product_id =  Product.product_id;"
   ]
  },
  {
   "cell_type": "markdown",
   "metadata": {},
   "source": [
    "# 1069. Product Sales Analysis II\n",
    "\n"
   ]
  },
  {
   "cell_type": "code",
   "execution_count": null,
   "metadata": {},
   "outputs": [],
   "source": [
    "select  Sales.product_id , sum(quantity) as total_quantity \n",
    "from Sales join Product on\n",
    "Sales.product_id =  Product.product_id\n",
    "group by Sales.product_id;"
   ]
  },
  {
   "cell_type": "markdown",
   "metadata": {},
   "source": [
    "# 1070. Product Sales Analysis III\n",
    "\n"
   ]
  },
  {
   "cell_type": "code",
   "execution_count": null,
   "metadata": {},
   "outputs": [],
   "source": [
    "select r.product_id, r.year as first_year, r.quantity, r.price from \n",
    "(select product_id, year, quantity, price, \n",
    "dense_rank() over(partition by product_id order by year) as rank_year\n",
    "from Sales) r\n",
    "where r.rank_year = 1\n"
   ]
  },
  {
   "cell_type": "markdown",
   "metadata": {},
   "source": [
    "# 1633. Percentage of Users Attended a Contest\n",
    "\n"
   ]
  },
  {
   "cell_type": "code",
   "execution_count": null,
   "metadata": {},
   "outputs": [],
   "source": [
    "select contest_id, round(count(*)*100/(Select Count(*) From  Users),2) as percentage from Users\n",
    "join Register on Users.user_id = Register.user_id\n",
    "group by contest_id\n",
    "order by percentage desc,contest_id"
   ]
  },
  {
   "cell_type": "markdown",
   "metadata": {},
   "source": [
    "# 1517. Find Users With Valid E-Mails\n",
    "\n"
   ]
  },
  {
   "cell_type": "code",
   "execution_count": null,
   "metadata": {},
   "outputs": [],
   "source": [
    "SELECT \n",
    "    user_id, name, mail\n",
    "FROM\n",
    "    users\n",
    "WHERE\n",
    "    mail REGEXP '^[a-zA-Z][a-zA-Z0-9_.-]*@leetcode.com$'"
   ]
  },
  {
   "cell_type": "markdown",
   "metadata": {},
   "source": [
    "# 627. Swap Salary\n",
    "\n"
   ]
  },
  {
   "cell_type": "code",
   "execution_count": null,
   "metadata": {},
   "outputs": [],
   "source": [
    "UPDATE salary\n",
    "SET sex = CASE WHEN sex = 'm' THEN 'f' \n",
    "                  WHEN sex = 'f' THEN 'm'\n",
    "                  end\n",
    "                 "
   ]
  },
  {
   "cell_type": "markdown",
   "metadata": {},
   "source": [
    "# 585. Investments in 2016\n",
    "\n"
   ]
  },
  {
   "cell_type": "code",
   "execution_count": null,
   "metadata": {},
   "outputs": [],
   "source": [
    "select sum(TIV_2016) as TIV_2016 from insurance\n",
    "where TIV_2015 in\n",
    "(select TIV_2015 from insurance\n",
    "group by TIV_2015 \n",
    "having count(*) > 1)\n",
    "\n",
    "and concat( Lat, Lon) in \n",
    "(select concat( Lat, Lon) \n",
    "from insurance \n",
    "group by Lat, Lon\n",
    "having count(*) = 1)"
   ]
  },
  {
   "cell_type": "markdown",
   "metadata": {},
   "source": [
    "# 1251. Average Selling Price\n",
    "\n"
   ]
  },
  {
   "cell_type": "code",
   "execution_count": null,
   "metadata": {},
   "outputs": [],
   "source": [
    "select Prices.product_id, round(sum(Prices.price* UnitsSold.units)/sum(UnitsSold.units),2) as average_price from\n",
    "Prices left join UnitsSold on Prices.product_id = UnitsSold.product_id and UnitsSold.purchase_date between \n",
    "Prices.start_date and Prices.end_date \n",
    "group by Prices.product_id  ;"
   ]
  },
  {
   "cell_type": "markdown",
   "metadata": {},
   "source": [
    "# 182. Duplicate Emails\n",
    "\n"
   ]
  },
  {
   "cell_type": "code",
   "execution_count": null,
   "metadata": {},
   "outputs": [],
   "source": [
    "select email from\n",
    "Person \n",
    "group by Email \n",
    "having count(*) >1"
   ]
  },
  {
   "cell_type": "markdown",
   "metadata": {},
   "source": [
    "# 178 Rank Scores    \n",
    "\n"
   ]
  },
  {
   "cell_type": "code",
   "execution_count": null,
   "metadata": {},
   "outputs": [],
   "source": [
    "select score,\n",
    "dense_rank() over(order by score desc) `Rank`\n",
    "from (select score from Scores\n",
    "order by score desc) r;"
   ]
  },
  {
   "cell_type": "markdown",
   "metadata": {},
   "source": [
    "# 1699. Number of Calls Between Two Persons\n",
    "\n"
   ]
  },
  {
   "cell_type": "code",
   "execution_count": null,
   "metadata": {},
   "outputs": [],
   "source": [
    "SELECT distinct  from_id  as person1, to_id as person2 ,  count(*) as call_count, sum(duration) as total_duration\n",
    "FROM\n",
    "    (\n",
    "            SELECT from_id, to_id, duration\n",
    "            FROM Calls\n",
    "        UNION ALL\n",
    "            SELECT to_id , from_id,duration \n",
    "            FROM Calls\n",
    "    ) r\n",
    "WHERE from_id <  to_id\n",
    "group by from_id , to_id;\n"
   ]
  },
  {
   "cell_type": "markdown",
   "metadata": {},
   "source": [
    "# 184. Department Highest Salary\n"
   ]
  },
  {
   "cell_type": "code",
   "execution_count": null,
   "metadata": {},
   "outputs": [],
   "source": [
    "select  Department,Employee , Salary\n",
    "from (select  Department,Employee , Salary,\n",
    "dense_rank() over(partition by Department order by Salary  desc) ran\n",
    "from \n",
    "(select d.Name as Department ,  e.Name as Employee , Salary from Employee e\n",
    "left join Department d\n",
    "on  e.DepartmentId = d.Id\n",
    "order by Salary desc) r\n",
    ") as sub_q\n",
    "\n",
    "where sub_q.ran = 1 and Department is not null\n"
   ]
  },
  {
   "cell_type": "markdown",
   "metadata": {},
   "source": [
    "# 1179. Reformat Department Table\n"
   ]
  },
  {
   "cell_type": "code",
   "execution_count": null,
   "metadata": {},
   "outputs": [],
   "source": [
    "select\n",
    "id,\n",
    "sum(case when month = 'Jan' then revenue end) as Jan_Revenue,\n",
    "sum(case when month = 'Feb' then revenue end) as Feb_Revenue,\n",
    "sum(case when month = 'Mar' then revenue end) as Mar_Revenue,\n",
    "sum(case when month = 'Apr' then revenue end) as Apr_Revenue,\n",
    "sum(case when month = 'May' then revenue end) as May_Revenue,\n",
    "sum(case when month = 'Jun' then revenue end) as Jun_Revenue,\n",
    "sum(case when month = 'Jul' then revenue end) as Jul_Revenue,\n",
    "sum(case when month = 'Aug' then revenue end) as Aug_Revenue,\n",
    "sum(case when month = 'Sep' then revenue end) as Sep_Revenue,\n",
    "sum(case when month = 'Oct' then revenue end) as Oct_Revenue,\n",
    "sum(case when month = 'Nov' then revenue end) as Nov_Revenue,\n",
    "sum(case when month = 'Dec' then revenue end) as Dec_Revenue\n",
    "from Department\n",
    "group by id"
   ]
  },
  {
   "cell_type": "markdown",
   "metadata": {},
   "source": [
    "#  626. Exchange Seats\n"
   ]
  },
  {
   "cell_type": "code",
   "execution_count": null,
   "metadata": {},
   "outputs": [],
   "source": [
    "SELECT\n",
    "   s1.id, COALESCE(s2.student, s1.student) AS student\n",
    "FROM\n",
    "    seat s1\n",
    "        LEFT JOIN\n",
    "    seat s2 ON (s1.id+1)^1-1 = s2.id\n",
    "ORDER BY s1.id;"
   ]
  },
  {
   "cell_type": "markdown",
   "metadata": {},
   "source": [
    "# 1270. All People Report to the Given Manager\n"
   ]
  },
  {
   "cell_type": "code",
   "execution_count": null,
   "metadata": {},
   "outputs": [],
   "source": [
    "select emp1 as employee_id from\n",
    "(select emp1 , man1 , e3.manager_id  as man2 from\n",
    "(select  e1.employee_id as emp1 , e2.manager_id  as man1 from\n",
    "Employees e1  join Employees e2\n",
    "on e1.manager_id = e2.employee_id) as t1 \n",
    "join Employees e3\n",
    "on man1 = e3.employee_id) as t2 \n",
    "\n",
    "where man2 = 1 and emp1 != 1"
   ]
  },
  {
   "cell_type": "markdown",
   "metadata": {},
   "source": [
    "# 185. Department Top Three Salaries\n"
   ]
  },
  {
   "cell_type": "code",
   "execution_count": null,
   "metadata": {},
   "outputs": [],
   "source": [
    "select  Department,Employee , Salary\n",
    "from (select  Department,Employee , Salary,\n",
    "dense_rank() over(partition by Department order by Salary  desc) ran\n",
    "from \n",
    "(select d.Name as Department ,  e.Name as Employee , Salary from Employee e\n",
    "INNER join Department d\n",
    "on  e.DepartmentId = d.Id\n",
    "order by Salary desc) r\n",
    ") as sub_q\n",
    "\n",
    "where sub_q.ran < 4  and Department is not null;\n"
   ]
  },
  {
   "cell_type": "markdown",
   "metadata": {},
   "source": [
    "# 262. Trips and Users\n",
    "\n",
    "\n"
   ]
  },
  {
   "cell_type": "code",
   "execution_count": null,
   "metadata": {},
   "outputs": [],
   "source": [
    "SELECT\n",
    "request_at Day,\n",
    "\n",
    "    round(SUM(CASE \n",
    "            WHEN c.banned = 'No' AND d.banned = 'No' AND status LIKE('%cancelled%') THEN 1\n",
    "            ELSE 0\n",
    "        END)/SUM(CASE\n",
    "                    WHEN c.banned = 'No' THEN 1 ELSE 0 END),2) 'Cancellation Rate'\n",
    "FROM trips t\n",
    "inner join Users c ON t.client_id = c.users_id and c.role = 'client'\n",
    "inner join Users d ON t.driver_id = d.users_id and d.role = 'driver'\n",
    "WHERE request_at BETWEEN '2013-10-01' AND '2013-10-03'\n",
    "GROUP BY request_at\n",
    "ORDER BY request_at\n",
    ";"
   ]
  },
  {
   "cell_type": "markdown",
   "metadata": {},
   "source": [
    "# 197. Rising Temperature\n"
   ]
  },
  {
   "cell_type": "code",
   "execution_count": null,
   "metadata": {},
   "outputs": [],
   "source": [
    "SELECT t2.id FROM `Weather` t1, `Weather` t2\n",
    "WHERE t2.Temperature > t1.Temperature\n",
    "AND t2.recordDate = t1.recordDate + INTERVAL 1 DAY"
   ]
  },
  {
   "cell_type": "markdown",
   "metadata": {},
   "source": [
    "# 183. Customers Who Never Order\n"
   ]
  },
  {
   "cell_type": "code",
   "execution_count": null,
   "metadata": {},
   "outputs": [],
   "source": [
    "select Name as Customers from Customers left join Orders\n",
    "on Orders.CustomerId = Customers.id\n",
    "where CustomerId is Null"
   ]
  },
  {
   "cell_type": "markdown",
   "metadata": {},
   "source": [
    "# 1173. Immediate Food Delivery I\n"
   ]
  },
  {
   "cell_type": "code",
   "execution_count": null,
   "metadata": {},
   "outputs": [],
   "source": [
    "select round(count(*)*100/(select count(*) from Delivery),2) as immediate_percentage from Delivery\n",
    "where order_date = customer_pref_delivery_date"
   ]
  },
  {
   "cell_type": "markdown",
   "metadata": {},
   "source": [
    "# 1587. Bank Account Summary II\n"
   ]
  },
  {
   "cell_type": "code",
   "execution_count": null,
   "metadata": {},
   "outputs": [],
   "source": [
    "select name ,balance from\n",
    "(select name, sum(amount) as balance from Transactions join Users on Users.account =  Transactions.account\n",
    "group by Transactions.account) as t\n",
    "where balance > 10000\n"
   ]
  },
  {
   "cell_type": "markdown",
   "metadata": {},
   "source": [
    "# 1350. Students With Invalid Departments\n"
   ]
  },
  {
   "cell_type": "code",
   "execution_count": null,
   "metadata": {},
   "outputs": [],
   "source": [
    "select id , Students.name from Students \n",
    "where Students .department_id not in(\n",
    "select Students.department_id from Students join Departments on Departments.id = Students.department_id)"
   ]
  },
  {
   "cell_type": "code",
   "execution_count": null,
   "metadata": {},
   "outputs": [],
   "source": [
    "# 1212. Team Scores in Football Tournament\n",
    "\n"
   ]
  },
  {
   "cell_type": "markdown",
   "metadata": {},
   "source": [
    "# 601. Human Traffic of Stadium\n"
   ]
  },
  {
   "cell_type": "code",
   "execution_count": null,
   "metadata": {},
   "outputs": [],
   "source": [
    "select distinct A.*\n",
    "from Stadium A inner join Stadium B inner join Stadium C\n",
    "on (   (A.id+1 = B.id and A.id+2 = C.id)\n",
    "     or (A.id-1 = B.id and A.id+1 = C.id)\n",
    "     or (A.id-1 = B.id and A.id-2 = C.id) )\n",
    "where A.people >= 100 and B.people >= 100 and C.people >= 100\n",
    "order by A.id\n",
    "\n",
    "or\n",
    "\n",
    "select distinct t1.*\n",
    "from stadium t1, stadium t2, stadium t3\n",
    "where t1.people >= 100 and t2.people >= 100 and t3.people >= 100\n",
    "and\n",
    "(\n",
    "    (t1.id - t2.id = 1 and t1.id - t3.id = 2 and t2.id - t3.id =1)  -- t1, t2, t3\n",
    "    or\n",
    "    (t2.id - t1.id = 1 and t2.id - t3.id = 2 and t1.id - t3.id =1) -- t2, t1, t3\n",
    "    or\n",
    "    (t3.id - t2.id = 1 and t2.id - t1.id =1 and t3.id - t1.id = 2) -- t3, t2, t1\n",
    ")\n",
    "order by t1.id\n",
    ";"
   ]
  },
  {
   "cell_type": "markdown",
   "metadata": {},
   "source": [
    "# 1412. Find the Quiet Students in All Exams\n"
   ]
  },
  {
   "cell_type": "code",
   "execution_count": null,
   "metadata": {},
   "outputs": [],
   "source": [
    "select student.student_id, student.student_name from student\n",
    "  join exam on exam.student_id = student.student_id\n",
    "  join (select exam_id, min(score) lo, max(score) hi from exam group by exam_id) as exam_minmax on exam_minmax.exam_id = exam.exam_id\n",
    "  group by student.student_id\n",
    "  having min(case when score <> lo and score <> hi then 1 else 0 end) = 1\n",
    "  order by student.student_id;"
   ]
  },
  {
   "cell_type": "markdown",
   "metadata": {},
   "source": [
    "# 1158. Market Analysis I\n"
   ]
  },
  {
   "cell_type": "code",
   "execution_count": null,
   "metadata": {},
   "outputs": [],
   "source": [
    "SELECT user_id as  buyer_id , join_date, ifnull(count(o.order_id),0) as orders_in_2019 \n",
    "from Users u\n",
    "left join Orders o on u.user_id = o.buyer_id and left(order_date,4) = '2019'\n",
    "group by user_id, join_date"
   ]
  },
  {
   "cell_type": "markdown",
   "metadata": {},
   "source": [
    "# 597. Friend Requests I: Overall Acceptance Rate\n"
   ]
  },
  {
   "cell_type": "code",
   "execution_count": null,
   "metadata": {},
   "outputs": [],
   "source": [
    "select ifnull(round(count(distinct concat(requester_id, accepter_id))/(select  count(distinct concat(sender_id,send_to_id ))\n",
    " from FriendRequest),2),0) as accept_rate FROM RequestAccepted"
   ]
  },
  {
   "cell_type": "code",
   "execution_count": null,
   "metadata": {},
   "outputs": [],
   "source": [
    "# 1435. Create a Session Bar Chart"
   ]
  },
  {
   "cell_type": "markdown",
   "metadata": {},
   "source": [
    "# 1141. User Activity for the Past 30 Days I\n"
   ]
  },
  {
   "cell_type": "code",
   "execution_count": null,
   "metadata": {},
   "outputs": [],
   "source": [
    "select activity_date as day, count(distinct user_id) as active_users from Activity\n",
    "where activity_date  >= '2019-06-28' and activity_date <= \"2019-07-27\"\n",
    "group by activity_date  ;\n"
   ]
  },
  {
   "cell_type": "markdown",
   "metadata": {},
   "source": [
    "# 1241. Number of Comments per Post\n"
   ]
  },
  {
   "cell_type": "code",
   "execution_count": null,
   "metadata": {},
   "outputs": [],
   "source": [
    "with sub as (\n",
    "    select distinct sub_id as sub\n",
    "    from Submissions\n",
    "    where parent_id is null\n",
    ")\n",
    "select sub.sub as post_id, count(distinct s.sub_id) as number_of_comments\n",
    "from sub left join Submissions s on sub.sub=s.parent_id\n",
    "group by sub.sub\n",
    "order by post_id"
   ]
  },
  {
   "cell_type": "markdown",
   "metadata": {},
   "source": [
    "# 1084. Sales Analysis III\n"
   ]
  },
  {
   "cell_type": "code",
   "execution_count": null,
   "metadata": {},
   "outputs": [],
   "source": [
    "select   t1.product_id, Product.product_name \n",
    "from\n",
    "(select  product_id, sale_date,\n",
    "sum(case when sale_date >=\"2019-01-01\" and sale_date <= \"2019-03-31\" then 0 else 1 end ) as count1 \n",
    "from Sales \n",
    "group by product_id ) as t1 \n",
    "join Product on\n",
    "t1.product_id = Product.product_id\n",
    "where t1.count1 = 0 "
   ]
  },
  {
   "cell_type": "markdown",
   "metadata": {},
   "source": [
    "# 1083. Sales Analysis II\n"
   ]
  },
  {
   "cell_type": "code",
   "execution_count": null,
   "metadata": {},
   "outputs": [],
   "source": [
    "select distinct buyer_id from Sales\n",
    "join Product on Product.product_id = Sales.product_id\n",
    "where buyer_id not in\n",
    "(select buyer_id  from Sales\n",
    "left join Product on Product.product_id = Sales.product_id\n",
    "where  Product.product_name  = \"iPhone\") and Product.product_name= \"S8\""
   ]
  },
  {
   "cell_type": "markdown",
   "metadata": {},
   "source": [
    "# 620. Not Boring Movies\n"
   ]
  },
  {
   "cell_type": "code",
   "execution_count": null,
   "metadata": {},
   "outputs": [],
   "source": [
    "select * from cinema \n",
    "where  id%2 != 0 and description != \"boring\"\n",
    "order by rating desc"
   ]
  },
  {
   "cell_type": "markdown",
   "metadata": {},
   "source": [
    "# 586. Customer Placing the Largest Number of Orders\n"
   ]
  },
  {
   "cell_type": "code",
   "execution_count": null,
   "metadata": {},
   "outputs": [],
   "source": [
    "SELECT  customer_number\n",
    "FROM \n",
    "(select customer_number, count(customer_number ) from orders\n",
    "group by customer_number\n",
    "order by count(*) desc) as t\n",
    " limit 1"
   ]
  },
  {
   "cell_type": "markdown",
   "metadata": {},
   "source": [
    "# 1355. Activity Participants\n"
   ]
  },
  {
   "cell_type": "code",
   "execution_count": null,
   "metadata": {},
   "outputs": [],
   "source": [
    "with ate as\n",
    "(select a1.name ,count(f.name) as n from Activities a1\n",
    "left join Friends f on f.activity  = a1.name\n",
    "group by a1.name \n",
    "order by n desc)\n",
    "\n",
    "select ate.name as ACTIVITY\n",
    "FROM ate\n",
    "where ate.n < (select max(n) from ate) and \n",
    "ate.n > (select MIN(n) from ate)"
   ]
  },
  {
   "cell_type": "markdown",
   "metadata": {},
   "source": [
    "# 1454. Active Users\n",
    "\n"
   ]
  },
  {
   "cell_type": "code",
   "execution_count": null,
   "metadata": {},
   "outputs": [],
   "source": [
    "WITH tab AS\n",
    "\n",
    "(SELECT *, (DAYOFYEAR(Login_date) - DENSE_RANK() \n",
    "            OVER(PARTITION BY id ORDER BY login_date ASC)) AS diff\n",
    "\n",
    "FROM Logins)\n",
    "\n",
    "SELECT DISTINCT tab.id,\n",
    "a.name\n",
    "\n",
    "FROM tab JOIN Accounts a\n",
    "\n",
    "ON tab.id = a.id\n",
    "\n",
    "GROUP BY tab.id, tab.diff\n",
    "\n",
    "HAVING COUNT(DISTINCT tab.login_date) >= 5;"
   ]
  },
  {
   "cell_type": "markdown",
   "metadata": {},
   "source": [
    "# 1132. Reported Posts II \n",
    "\n"
   ]
  },
  {
   "cell_type": "code",
   "execution_count": null,
   "metadata": {},
   "outputs": [],
   "source": [
    "WITH t1 AS(\n",
    "    SELECT a.post_id, a.action_date, r.remove_date\n",
    "    FROM Actions a LEFT JOIN Removals r\n",
    "    USING(post_id)\n",
    "    WHERE a.extra = \"spam\"\n",
    "),\n",
    "\n",
    "t2 AS(\n",
    "    SELECT t1.action_date, \n",
    " (COUNT(DISTINCT CASE WHEN remove_date IS NOT NULL THEN post_id ELSE NULL END)/COUNT(DISTINCT post_id)) AS rate\n",
    "    FROM t1\n",
    "    GROUP BY action_date\n",
    ")\n",
    "\n",
    "select ROUND(AVG(rate)*100,2) AS average_daily_percent \n",
    "from t2\n"
   ]
  },
  {
   "cell_type": "markdown",
   "metadata": {},
   "source": [
    "# 1204. Last Person to Fit in the Elevator\n"
   ]
  },
  {
   "cell_type": "code",
   "execution_count": null,
   "metadata": {},
   "outputs": [],
   "source": [
    "select  person_name \n",
    "from (select *, (SUM(weight) OVER(ORDER BY turn asc)) AS cumulative_sum\n",
    "FROM Queue) s\n",
    "where  s.cumulative_sum <= 1000\n",
    "order by turn desc\n",
    "LIMIT 1;"
   ]
  },
  {
   "cell_type": "markdown",
   "metadata": {},
   "source": [
    "# 1174. Immediate Food Delivery II\n"
   ]
  },
  {
   "cell_type": "code",
   "execution_count": null,
   "metadata": {},
   "outputs": [],
   "source": [
    "with t2 as (select *\n",
    "from (select *, (DENSE_RANK() \n",
    "            OVER(PARTITION BY customer_id ORDER BY order_date ASC)) as r\n",
    "from Delivery) t1\n",
    "where r = 1) \n",
    "\n",
    "select round(sum( case when order_date = customer_pref_delivery_date then 1 else 0 end)*100/\n",
    "(select count(*) from t2),2) immediate_percentage\n",
    "\n",
    "from t2"
   ]
  },
  {
   "cell_type": "markdown",
   "metadata": {},
   "source": [
    "# 1596. The Most Frequently Ordered Products for Each Customer\n"
   ]
  },
  {
   "cell_type": "code",
   "execution_count": null,
   "metadata": {},
   "outputs": [],
   "source": [
    "with t1 as (select customer_id, product_id, count(product_id) as f\n",
    "from Orders\n",
    "group by customer_id, product_id )\n",
    ",\n",
    "t2 as (select customer_id ,t1.product_id, f, Products.product_name from t1 join Products on \n",
    "Products.product_id = t1.product_id)\n",
    "\n",
    "select customer_id,product_id,product_name from (select *, (dense_rank() OVER(PARTITION BY customer_id ORDER BY f desc )) as s\n",
    "from t2) t3\n",
    "where s = 1"
   ]
  },
  {
   "cell_type": "markdown",
   "metadata": {},
   "source": [
    "# 1212. Team Scores in Football Tournament\n"
   ]
  },
  {
   "cell_type": "code",
   "execution_count": null,
   "metadata": {},
   "outputs": [],
   "source": [
    "WITH CTE AS(\n",
    "Select host_team,guest_team, \n",
    "CASE WHEN host_goals>guest_goals  then 3\n",
    "     WHEN host_goals=guest_goals then 1\n",
    "     else 0 end as Host_Goals,\n",
    "    \n",
    "CASE WHEN host_goals<guest_goals  then 3\n",
    "     WHEN host_goals=guest_goals then 1\n",
    "     else 0 end as Guest_Goals \n",
    "     from Matches),\n",
    "     \n",
    "Team_As_Guest as(\n",
    "Select distinct T.team_id, SUM(Guest_Goals) as Guest_pt FROM CTE RIGHT JOIN Teams T\n",
    "    on T.team_id=CTE.guest_team\n",
    "    where T.team_id=CTE.guest_team\n",
    "    GROUP BY T.team_id\n",
    "),\n",
    "\n",
    "Team_As_Host as(\n",
    "Select distinct T.team_id, SUM(Host_Goals) As Host_Pt FROM CTE RIGHT JOIN Teams T\n",
    "    on T.team_id=CTE.host_team\n",
    "    where T.team_id=CTE.host_team\n",
    "    GROUP BY T.team_id\n",
    ")\n",
    "     \n",
    "Select T.team_id,T.team_name, Coalesce(SUM(Guest_pt),0)+Coalesce(SUM(Host_Pt),0) as num_points from\n",
    "Teams T LEFT JOIN Team_As_Host A \n",
    "on T.team_id=A.team_id LEFT JOIN Team_As_Guest B on\n",
    "T.team_id=B.team_id\n",
    "group by T.team_id\n",
    "order by num_points desc, T.team_id"
   ]
  },
  {
   "cell_type": "markdown",
   "metadata": {},
   "source": [
    "# 1543. Fix Product Name Format\n"
   ]
  },
  {
   "cell_type": "code",
   "execution_count": null,
   "metadata": {},
   "outputs": [],
   "source": [
    "SELECT LOWER(TRIM(product_name)) AS product_name, \n",
    "       DATE_FORMAT(sale_date, \"%Y-%m\") AS sale_date, \n",
    "       COUNT(sale_id) AS total\n",
    "FROM sales\n",
    "GROUP BY 1, 2\n",
    "ORDER BY product_name, sale_date"
   ]
  },
  {
   "cell_type": "markdown",
   "metadata": {},
   "source": [
    "# 1565. Unique Orders and Customers Per Month\n"
   ]
  },
  {
   "cell_type": "code",
   "execution_count": null,
   "metadata": {},
   "outputs": [],
   "source": [
    "select DATE_FORMAT( order_date , \"%Y-%m\") AS month, count(order_id ) as order_count\n",
    ", count(distinct  customer_id  ) as customer_count \n",
    "from Orders\n",
    "where invoice > 20\n",
    "group by month"
   ]
  },
  {
   "cell_type": "markdown",
   "metadata": {},
   "source": [
    "# 574. Winning Candidate\n"
   ]
  },
  {
   "cell_type": "code",
   "execution_count": null,
   "metadata": {},
   "outputs": [],
   "source": [
    "select Name from Candidate right join  (select CandidateId, count(CandidateId) as c from Vote\n",
    "group by CandidateId \n",
    "order by c desc\n",
    "limit 1) t2\n",
    "on Candidate.id = t2.CandidateId"
   ]
  },
  {
   "cell_type": "markdown",
   "metadata": {},
   "source": [
    "# 612. Shortest Distance in a Plane"
   ]
  },
  {
   "cell_type": "code",
   "execution_count": null,
   "metadata": {},
   "outputs": [],
   "source": [
    "select round(min(sqrt(pow(p1.x-p2.x,2)+pow(p1.y-p2.y,2))),2) as shortest\n",
    "from point_2d p1, point_2d p2\n",
    "where not (p1.x = p2.x and p1.y=p2.y);\n"
   ]
  },
  {
   "cell_type": "markdown",
   "metadata": {},
   "source": [
    " # 610. Triangle Judgement\n",
    "                "
   ]
  },
  {
   "cell_type": "code",
   "execution_count": null,
   "metadata": {},
   "outputs": [],
   "source": [
    "select x,y,z,\n",
    "case when x>=y and x>=z and (y+z)>x then 'Yes'\n",
    "when y>=x and y>=z and (x+z)>y then 'Yes'when z>=x and z>=y and (x+y)>z then 'Yes'\n",
    "when x=y and x=z then 'Yes' else 'No' end as triangle from triangle;"
   ]
  }
 ],
 "metadata": {
  "kernelspec": {
   "display_name": "Python 3",
   "language": "python",
   "name": "python3"
  },
  "language_info": {
   "codemirror_mode": {
    "name": "ipython",
    "version": 3
   },
   "file_extension": ".py",
   "mimetype": "text/x-python",
   "name": "python",
   "nbconvert_exporter": "python",
   "pygments_lexer": "ipython3",
   "version": "3.6.10"
  }
 },
 "nbformat": 4,
 "nbformat_minor": 4
}
